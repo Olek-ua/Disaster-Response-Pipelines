{
 "cells": [
  {
   "cell_type": "markdown",
   "metadata": {},
   "source": [
    "# ML Pipeline Preparation\n",
    "Follow the instructions below to help you create your ML pipeline.\n",
    "### 1. Import libraries and load data from database.\n",
    "- Import Python libraries\n",
    "- Load dataset from database with [`read_sql_table`](https://pandas.pydata.org/pandas-docs/stable/generated/pandas.read_sql_table.html)\n",
    "- Define feature and target variables X and Y"
   ]
  },
  {
   "cell_type": "code",
   "execution_count": 1,
   "metadata": {},
   "outputs": [
    {
     "name": "stderr",
     "output_type": "stream",
     "text": [
      "[nltk_data] Downloading package punkt to\n",
      "[nltk_data]     /Users/oleksandryatsenko/nltk_data...\n",
      "[nltk_data]   Package punkt is already up-to-date!\n",
      "[nltk_data] Downloading package stopwords to\n",
      "[nltk_data]     /Users/oleksandryatsenko/nltk_data...\n",
      "[nltk_data]   Package stopwords is already up-to-date!\n",
      "[nltk_data] Downloading package wordnet to\n",
      "[nltk_data]     /Users/oleksandryatsenko/nltk_data...\n",
      "[nltk_data]   Package wordnet is already up-to-date!\n"
     ]
    }
   ],
   "source": [
    "# import packages\n",
    "\n",
    "# data extraction\n",
    "from sqlalchemy import create_engine\n",
    "\n",
    "# standard data processing\n",
    "import pandas as pd\n",
    "import numpy as np\n",
    "import sys\n",
    "import time\n",
    "\n",
    "# tokenization\n",
    "import re\n",
    "import nltk\n",
    "nltk.download('punkt')\n",
    "nltk.download('stopwords')\n",
    "nltk.download('wordnet')\n",
    "\n",
    "from nltk.tokenize import sent_tokenize\n",
    "from nltk.corpus import stopwords\n",
    "from nltk.stem.wordnet import WordNetLemmatizer\n",
    "\n",
    "# visualization libraries\n",
    "\n",
    "import pandas as pd\n",
    "import matplotlib.pyplot as plt\n",
    "import seaborn as sns\n",
    "\n",
    "# sklearn liabraries\n",
    "\n",
    "from sklearn.metrics import confusion_matrix\n",
    "from sklearn.metrics import multilabel_confusion_matrix\n",
    "from sklearn.model_selection import train_test_split\n",
    "from sklearn.ensemble import RandomForestClassifier\n",
    "from sklearn.model_selection import GridSearchCV\n",
    "from sklearn.feature_extraction.text import CountVectorizer, TfidfTransformer\n",
    "from sklearn.pipeline import Pipeline\n",
    "from sklearn.metrics import classification_report\n",
    "from sklearn.naive_bayes import MultinomialNB\n",
    "from sklearn.multiclass import OneVsRestClassifier\n",
    "from sklearn.svm import LinearSVC\n",
    "from sklearn.linear_model import LogisticRegression\n",
    "from sklearn.multioutput import MultiOutputClassifier\n",
    "\n",
    "# saving model results\n",
    "import joblib\n",
    "\n"
   ]
  },
  {
   "cell_type": "code",
   "execution_count": 2,
   "metadata": {},
   "outputs": [],
   "source": [
    "def load_data():\n",
    "    '''\n",
    "    INPUT: \n",
    "    none\n",
    "    \n",
    "    OUTPUT:\n",
    "    X,y - extracting features and labels from TweetsDatabase\n",
    "    '''\n",
    "    \n",
    "    # load data from database\n",
    "    engine = create_engine('sqlite:///TweetsDatabase.db')\n",
    "    df = pd.read_sql_table('TweetsDatabase', engine)\n",
    "    \n",
    "    # defining features - X and labels y\n",
    "    # dropping 'child alone feature' as this is absent in our data\n",
    "    X = df['message']\n",
    "    y = df.drop(['id','original','message','genre','child_alone'], axis = 1)\n",
    "    \n",
    "    # Replacing rougue 2 values, otherwise this will cause an error in confusion matrix\n",
    "    y.related.replace('2','1',inplace=True)\n",
    "    y = y.astype(int)\n",
    "    return X,y"
   ]
  },
  {
   "cell_type": "markdown",
   "metadata": {},
   "source": [
    "### 2. Write a tokenization function to process your text data"
   ]
  },
  {
   "cell_type": "code",
   "execution_count": 3,
   "metadata": {},
   "outputs": [],
   "source": [
    "def tokenize(text):\n",
    "    '''\n",
    "    INPUT: \n",
    "    text - individual tweets from TweetsDatabase in string format\n",
    "    \n",
    "    OUTPUT:\n",
    "    clean_tokens - list of cleaned tokens \n",
    "    \n",
    "    '''\n",
    "    # text cleaning\n",
    "    text = text.lower() # Convert to lowercase\n",
    "    text = re.sub('[^A-Za-z0-9]+',' ', text) # removing punctuation\n",
    "    words = nltk.word_tokenize(text) # tokenizing words\n",
    "    stop_words = set(stopwords.words('english')) # adding set of stopwords\n",
    "    filtered_words = [w for w in words if not w.lower() in stop_words] # filtering words\n",
    "    \n",
    "    # initiate lemmatizer\n",
    "    lemmatizer = WordNetLemmatizer()\n",
    "\n",
    "    # iterate through each token\n",
    "    clean_tokens = []\n",
    "    for tok in filtered_words:\n",
    "        # lemmatization\n",
    "        clean_tok = lemmatizer.lemmatize(tok)\n",
    "        clean_tokens.append(clean_tok)\n",
    "    return clean_tokens"
   ]
  },
  {
   "cell_type": "markdown",
   "metadata": {},
   "source": [
    "### 3. Assembling model evaluation components"
   ]
  },
  {
   "cell_type": "code",
   "execution_count": 4,
   "metadata": {},
   "outputs": [],
   "source": [
    "def print_confusion_matrix(confusion_matrix, axes, class_label, class_names, fontsize=14):\n",
    "    '''\n",
    "    INPUT: \n",
    "    confusion_matrix - results of sklearn confusion_matrix\n",
    "    axes\n",
    "    class_label\n",
    "    class_names\n",
    "    fontsize\n",
    "    \n",
    "    OUTPUT:\n",
    "    confusion matrix chart \n",
    "    \n",
    "    '''\n",
    "    # plotting heatmap of confusion matricies\n",
    "    df_cm = pd.DataFrame(confusion_matrix, index=class_names, columns=class_names,)\n",
    "\n",
    "    try:\n",
    "        heatmap = sns.heatmap(df_cm, annot=True, fmt=\"d\", cbar=False, ax=axes)\n",
    "    except ValueError:\n",
    "        raise ValueError(\"Confusion matrix values must be integers.\")\n",
    "    heatmap.yaxis.set_ticklabels(heatmap.yaxis.get_ticklabels(), rotation=0, ha='right', fontsize=fontsize)\n",
    "    heatmap.xaxis.set_ticklabels(heatmap.xaxis.get_ticklabels(), rotation=45, ha='right', fontsize=fontsize)\n",
    "    axes.set_ylabel('True label')\n",
    "    axes.set_xlabel('Predicted label')\n",
    "    axes.set_title(\"Confusion Matrix for the class - \" + class_label)"
   ]
  },
  {
   "cell_type": "code",
   "execution_count": 5,
   "metadata": {},
   "outputs": [],
   "source": [
    "def model_results(y_test, y_pred):\n",
    "    '''\n",
    "    INPUT: \n",
    "    y_test\n",
    "    y_pred\n",
    "\n",
    "    \n",
    "    OUTPUT:\n",
    "    labels - feature names (columns)\n",
    "    ax\n",
    "    fig \n",
    "    vis_arr - multilabel confusion matrix results\n",
    "    accuracy - model's accuracy\n",
    "    '''\n",
    "    \n",
    "    labels = list(y_test.columns.values)\n",
    "\n",
    "    # we use multilabel confusion matrix\n",
    "    vis_arr = multilabel_confusion_matrix(y_test, y_pred)\n",
    "    fig, ax = plt.subplots(4, 4, figsize=(18, 9))\n",
    "    accuracy = (y_pred == y_test).mean()\n",
    "    \n",
    "    return labels, ax, fig, vis_arr, accuracy"
   ]
  },
  {
   "cell_type": "markdown",
   "metadata": {},
   "source": [
    "### 4. Build a machine learning pipeline\n",
    "This machine pipeline should take in the `message` column as input and output classification results on the other 36 categories in the dataset. You may find the [MultiOutputClassifier](http://scikit-learn.org/stable/modules/generated/sklearn.multioutput.MultiOutputClassifier.html) helpful for predicting multiple target variables."
   ]
  },
  {
   "cell_type": "code",
   "execution_count": 6,
   "metadata": {},
   "outputs": [],
   "source": [
    "def model_pipeline():\n",
    "    pipeline = Pipeline([\n",
    "        ('vect', CountVectorizer(tokenizer=tokenize)),\n",
    "        ('tfidf', TfidfTransformer()),\n",
    "        ('clf', OneVsRestClassifier(LinearSVC(), n_jobs=1)),\n",
    "    ])\n",
    "    \n",
    "    # HINT: to check the full set of all parameters we can use in gridsearch - pipeline.get_params()\n",
    "    parameters = {\n",
    "        'tfidf__use_idf': (True, False)\n",
    "        \n",
    "        # 'clf__n_estimators': [50, 100, 200],\n",
    "        # 'clf__min_samples_split': [2, 3, 4],\n",
    "        # 'tfidf__use_idf': (True, False),\n",
    "        # 'vect__ngram_range': ((1, 1), (1, 2)),\n",
    "        # 'vect__max_df': (0.5, 0.75, 1.0),\n",
    "        # 'vect__max_features': (None, 5000, 10000),\n",
    "    }\n",
    "\n",
    "    cv = GridSearchCV(pipeline, param_grid=parameters, cv = 3)\n",
    "    return cv"
   ]
  },
  {
   "cell_type": "markdown",
   "metadata": {},
   "source": [
    "### 5. Train model\n",
    "- Split data into train and test sets\n",
    "- Train model (pipeline)"
   ]
  },
  {
   "cell_type": "code",
   "execution_count": 7,
   "metadata": {},
   "outputs": [],
   "source": [
    "def build_model(X_train, y_train):\n",
    "    '''\n",
    "    INPUT: \n",
    "    none\n",
    "    \n",
    "    OUTPUT:\n",
    "    model \n",
    "    X_train \n",
    "    X_test \n",
    "    y_train \n",
    "    y_test\n",
    "    '''\n",
    "    model = model_pipeline()\n",
    "    model.fit(X_train, y_train)\n",
    "    \n",
    "    return model\n"
   ]
  },
  {
   "cell_type": "markdown",
   "metadata": {},
   "source": [
    "### 6. Evaluate your model"
   ]
  },
  {
   "cell_type": "code",
   "execution_count": 8,
   "metadata": {},
   "outputs": [],
   "source": [
    "def model_evaluation(model, X_train, X_test, y_train, y_test):    \n",
    "    '''\n",
    "    INPUT: \n",
    "    model\n",
    "    \n",
    "    OUTPUT:\n",
    "    charts & running time\n",
    "    '''\n",
    "    \n",
    "    y_pred = model.predict(X_test)\n",
    "    \n",
    "    labels, ax, fig, vis_arr, accuracy = model_results(y_test, y_pred)\n",
    "    \n",
    "    for axes, cfs_matrix, label in zip(ax.flatten(), vis_arr, labels):\n",
    "        print_confusion_matrix(cfs_matrix, axes, label, [\"N\", \"Y\"]) \n",
    "    \n",
    "    # displaying results\n",
    "    fig.tight_layout()\n",
    "    plt.show() \n",
    "    print(classification_report(y_test, y_pred))\n",
    "    print(\"Accuracy:\", accuracy)"
   ]
  },
  {
   "cell_type": "markdown",
   "metadata": {},
   "source": [
    "### 7. Export your model as a pickle file"
   ]
  },
  {
   "cell_type": "code",
   "execution_count": 9,
   "metadata": {},
   "outputs": [],
   "source": [
    "def save_model(model):\n",
    "    '''\n",
    "    INPUT: \n",
    "    model\n",
    "    \n",
    "    OUTPUT:\n",
    "    pickle file of a model\n",
    "    '''\n",
    "    joblib.dump(model, \"pipeline_model.pkl\")"
   ]
  },
  {
   "cell_type": "code",
   "execution_count": 10,
   "metadata": {},
   "outputs": [],
   "source": [
    "def main():\n",
    "    start_time = time.time()\n",
    "    print('Loading data..')\n",
    "    \n",
    "    X, y = load_data()\n",
    "    X_train, X_test, y_train, y_test = train_test_split(X, y, test_size=0.3, random_state=42, shuffle=True)\n",
    "    \n",
    "    print('Training model...')\n",
    "    model = build_model(X_train, y_train)\n",
    "    \n",
    "    print('Saving model...')\n",
    "    save_model(model)\n",
    "    \n",
    "    print('Trained model saved!')\n",
    "    \n",
    "    print('Evaluating model..')\n",
    "    model_evaluation(model, X_train, X_test, y_train, y_test)\n",
    "    \n",
    "    # predictions running time\n",
    "    print(\"Running time:\",\"--- %s seconds ---\" % (time.time() - start_time)) "
   ]
  },
  {
   "cell_type": "code",
   "execution_count": 11,
   "metadata": {},
   "outputs": [
    {
     "name": "stdout",
     "output_type": "stream",
     "text": [
      "Loading data..\n",
      "Training model...\n",
      "Saving model...\n",
      "Evaluating model..\n"
     ]
    },
    {
     "data": {
      "image/png": "[encoded data removed]",
      "text/plain": [
       "<Figure size 1296x648 with 16 Axes>"
      ]
     },
     "metadata": {
      "needs_background": "light"
     },
     "output_type": "display_data"
    },
    {
     "name": "stdout",
     "output_type": "stream",
     "text": [
      "              precision    recall  f1-score   support\n",
      "\n",
      "           0       0.86      0.91      0.89      5992\n",
      "           1       0.77      0.59      0.67      1332\n",
      "           2       0.00      0.00      0.00        36\n",
      "           3       0.73      0.69      0.71      3219\n",
      "           4       0.60      0.28      0.38       638\n",
      "           5       0.68      0.29      0.41       418\n",
      "           6       0.76      0.16      0.27       192\n",
      "           7       0.40      0.01      0.03       144\n",
      "           8       0.54      0.27      0.36       245\n",
      "           9       0.75      0.62      0.68       500\n",
      "          10       0.83      0.71      0.77       878\n",
      "          11       0.78      0.58      0.67       705\n",
      "          12       0.69      0.37      0.48       115\n",
      "          13       0.51      0.23      0.32       170\n",
      "          14       0.80      0.13      0.22        92\n",
      "          15       0.63      0.23      0.33       260\n",
      "          16       0.78      0.44      0.57       366\n",
      "          17       0.50      0.19      0.28      1033\n",
      "          18       0.43      0.09      0.15       505\n",
      "          19       0.72      0.17      0.27       362\n",
      "          20       0.74      0.37      0.49       392\n",
      "          21       0.61      0.23      0.34       168\n",
      "          22       0.00      0.00      0.00        48\n",
      "          23       0.40      0.05      0.09        78\n",
      "          24       0.00      0.00      0.00        28\n",
      "          25       0.40      0.02      0.04       103\n",
      "          26       0.43      0.06      0.10       341\n",
      "          27       0.83      0.72      0.77      2163\n",
      "          28       0.86      0.58      0.69       623\n",
      "          29       0.73      0.61      0.67       738\n",
      "          30       0.72      0.22      0.33        83\n",
      "          31       0.88      0.77      0.82       702\n",
      "          32       0.76      0.35      0.48       171\n",
      "          33       0.52      0.15      0.24       415\n",
      "          34       0.69      0.48      0.57      1544\n",
      "\n",
      "   micro avg       0.78      0.60      0.68     24799\n",
      "   macro avg       0.61      0.33      0.40     24799\n",
      "weighted avg       0.74      0.60      0.64     24799\n",
      " samples avg       0.61      0.50      0.51     24799\n",
      "\n",
      "Accuracy: related                   0.823013\n",
      "request                   0.900318\n",
      "offer                     0.995423\n",
      "aid_related               0.765544\n",
      "medical_help              0.926256\n",
      "medical_products          0.955118\n",
      "search_and_rescue         0.978258\n",
      "security                  0.981564\n",
      "military                  0.969994\n",
      "water                     0.962492\n",
      "food                      0.951558\n",
      "shelter                   0.947616\n",
      "clothing                  0.988303\n",
      "money                     0.978640\n",
      "missing_people            0.989447\n",
      "refugees                  0.969994\n",
      "death                     0.968341\n",
      "other_aid                 0.868277\n",
      "infrastructure_related    0.933884\n",
      "transport                 0.958678\n",
      "buildings                 0.962111\n",
      "electricity               0.980420\n",
      "tools                     0.993897\n",
      "hospitals                 0.989828\n",
      "shops                     0.996440\n",
      "aid_centers               0.986777\n",
      "other_infrastructure      0.955753\n",
      "weather_related           0.881246\n",
      "floods                    0.959441\n",
      "storm                     0.942784\n",
      "fire                      0.990846\n",
      "earthquake                0.970121\n",
      "cold                      0.983471\n",
      "other_weather             0.947870\n",
      "direct_report             0.856325\n",
      "dtype: float64\n",
      "Running time: --- 78.5757749080658 seconds ---\n"
     ]
    },
    {
     "name": "stderr",
     "output_type": "stream",
     "text": [
      "/Users/oleksandryatsenko/opt/anaconda3/lib/python3.7/site-packages/sklearn/metrics/_classification.py:1221: UndefinedMetricWarning: Precision and F-score are ill-defined and being set to 0.0 in labels with no predicted samples. Use `zero_division` parameter to control this behavior.\n",
      "  _warn_prf(average, modifier, msg_start, len(result))\n",
      "/Users/oleksandryatsenko/opt/anaconda3/lib/python3.7/site-packages/sklearn/metrics/_classification.py:1221: UndefinedMetricWarning: Precision and F-score are ill-defined and being set to 0.0 in samples with no predicted labels. Use `zero_division` parameter to control this behavior.\n",
      "  _warn_prf(average, modifier, msg_start, len(result))\n",
      "/Users/oleksandryatsenko/opt/anaconda3/lib/python3.7/site-packages/sklearn/metrics/_classification.py:1221: UndefinedMetricWarning: Recall and F-score are ill-defined and being set to 0.0 in samples with no true labels. Use `zero_division` parameter to control this behavior.\n",
      "  _warn_prf(average, modifier, msg_start, len(result))\n"
     ]
    }
   ],
   "source": [
    "if __name__ == '__main__':\n",
    "    main()"
   ]
  },
  {
   "cell_type": "markdown",
   "metadata": {},
   "source": [
    "### 10. Use this notebook to complete `train.py`\n",
    "Use the template file attached in the Resources folder to write a script that runs the steps above to create a database and export a model based on a new dataset specified by the user."
   ]
  },
  {
   "cell_type": "code",
   "execution_count": null,
   "metadata": {},
   "outputs": [],
   "source": []
  }
 ],
 "metadata": {
  "kernelspec": {
   "display_name": "Python 3",
   "language": "python",
   "name": "python3"
  },
  "language_info": {
   "codemirror_mode": {
    "name": "ipython",
    "version": 3
   },
   "file_extension": ".py",
   "mimetype": "text/x-python",
   "name": "python",
   "nbconvert_exporter": "python",
   "pygments_lexer": "ipython3",
   "version": "3.7.6"
  }
 },
 "nbformat": 4,
 "nbformat_minor": 2
}
