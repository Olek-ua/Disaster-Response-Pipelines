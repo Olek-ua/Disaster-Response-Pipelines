{
 "cells": [
  {
   "cell_type": "markdown",
   "metadata": {},
   "source": [
    "# ML Pipeline Preparation\n",
    "Follow the instructions below to help you create your ML pipeline.\n",
    "### 1. Import libraries and load data from database.\n",
    "- Import Python libraries\n",
    "- Load dataset from database with [`read_sql_table`](https://pandas.pydata.org/pandas-docs/stable/generated/pandas.read_sql_table.html)\n",
    "- Define feature and target variables X and Y"
   ]
  },
  {
   "cell_type": "code",
   "execution_count": 2,
   "metadata": {},
   "outputs": [],
   "source": [
    "# import libraries\n",
    "from sqlalchemy import create_engine\n",
    "import pandas as pd\n",
    "import numpy as np"
   ]
  },
  {
   "cell_type": "code",
   "execution_count": 3,
   "metadata": {},
   "outputs": [],
   "source": [
    "# load data from database\n",
    "engine = create_engine('sqlite:///TweetsDatabase.db')\n",
    "df = pd.read_sql_table('TweetsDatabase', engine) "
   ]
  },
  {
   "cell_type": "code",
   "execution_count": 4,
   "metadata": {},
   "outputs": [
    {
     "data": {
      "text/html": [
       "<div>\n",
       "<style scoped>\n",
       "    .dataframe tbody tr th:only-of-type {\n",
       "        vertical-align: middle;\n",
       "    }\n",
       "\n",
       "    .dataframe tbody tr th {\n",
       "        vertical-align: top;\n",
       "    }\n",
       "\n",
       "    .dataframe thead th {\n",
       "        text-align: right;\n",
       "    }\n",
       "</style>\n",
       "<table border=\"1\" class=\"dataframe\">\n",
       "  <thead>\n",
       "    <tr style=\"text-align: right;\">\n",
       "      <th></th>\n",
       "      <th>id</th>\n",
       "      <th>message</th>\n",
       "      <th>original</th>\n",
       "      <th>genre</th>\n",
       "      <th>related</th>\n",
       "      <th>request</th>\n",
       "      <th>offer</th>\n",
       "      <th>aid_related</th>\n",
       "      <th>medical_help</th>\n",
       "      <th>medical_products</th>\n",
       "      <th>...</th>\n",
       "      <th>aid_centers</th>\n",
       "      <th>other_infrastructure</th>\n",
       "      <th>weather_related</th>\n",
       "      <th>floods</th>\n",
       "      <th>storm</th>\n",
       "      <th>fire</th>\n",
       "      <th>earthquake</th>\n",
       "      <th>cold</th>\n",
       "      <th>other_weather</th>\n",
       "      <th>direct_report</th>\n",
       "    </tr>\n",
       "  </thead>\n",
       "  <tbody>\n",
       "    <tr>\n",
       "      <th>0</th>\n",
       "      <td>2</td>\n",
       "      <td>Weather update - a cold front from Cuba that c...</td>\n",
       "      <td>Un front froid se retrouve sur Cuba ce matin. ...</td>\n",
       "      <td>direct</td>\n",
       "      <td>1</td>\n",
       "      <td>0</td>\n",
       "      <td>0</td>\n",
       "      <td>0</td>\n",
       "      <td>0</td>\n",
       "      <td>0</td>\n",
       "      <td>...</td>\n",
       "      <td>0</td>\n",
       "      <td>0</td>\n",
       "      <td>0</td>\n",
       "      <td>0</td>\n",
       "      <td>0</td>\n",
       "      <td>0</td>\n",
       "      <td>0</td>\n",
       "      <td>0</td>\n",
       "      <td>0</td>\n",
       "      <td>0</td>\n",
       "    </tr>\n",
       "    <tr>\n",
       "      <th>1</th>\n",
       "      <td>7</td>\n",
       "      <td>Is the Hurricane over or is it not over</td>\n",
       "      <td>Cyclone nan fini osinon li pa fini</td>\n",
       "      <td>direct</td>\n",
       "      <td>1</td>\n",
       "      <td>0</td>\n",
       "      <td>0</td>\n",
       "      <td>1</td>\n",
       "      <td>0</td>\n",
       "      <td>0</td>\n",
       "      <td>...</td>\n",
       "      <td>0</td>\n",
       "      <td>0</td>\n",
       "      <td>1</td>\n",
       "      <td>0</td>\n",
       "      <td>1</td>\n",
       "      <td>0</td>\n",
       "      <td>0</td>\n",
       "      <td>0</td>\n",
       "      <td>0</td>\n",
       "      <td>0</td>\n",
       "    </tr>\n",
       "    <tr>\n",
       "      <th>2</th>\n",
       "      <td>8</td>\n",
       "      <td>Looking for someone but no name</td>\n",
       "      <td>Patnm, di Maryani relem pou li banm nouvel li ...</td>\n",
       "      <td>direct</td>\n",
       "      <td>1</td>\n",
       "      <td>0</td>\n",
       "      <td>0</td>\n",
       "      <td>0</td>\n",
       "      <td>0</td>\n",
       "      <td>0</td>\n",
       "      <td>...</td>\n",
       "      <td>0</td>\n",
       "      <td>0</td>\n",
       "      <td>0</td>\n",
       "      <td>0</td>\n",
       "      <td>0</td>\n",
       "      <td>0</td>\n",
       "      <td>0</td>\n",
       "      <td>0</td>\n",
       "      <td>0</td>\n",
       "      <td>0</td>\n",
       "    </tr>\n",
       "  </tbody>\n",
       "</table>\n",
       "<p>3 rows × 40 columns</p>\n",
       "</div>"
      ],
      "text/plain": [
       "   id                                            message  \\\n",
       "0   2  Weather update - a cold front from Cuba that c...   \n",
       "1   7            Is the Hurricane over or is it not over   \n",
       "2   8                    Looking for someone but no name   \n",
       "\n",
       "                                            original   genre related request  \\\n",
       "0  Un front froid se retrouve sur Cuba ce matin. ...  direct       1       0   \n",
       "1                 Cyclone nan fini osinon li pa fini  direct       1       0   \n",
       "2  Patnm, di Maryani relem pou li banm nouvel li ...  direct       1       0   \n",
       "\n",
       "  offer aid_related medical_help medical_products  ... aid_centers  \\\n",
       "0     0           0            0                0  ...           0   \n",
       "1     0           1            0                0  ...           0   \n",
       "2     0           0            0                0  ...           0   \n",
       "\n",
       "  other_infrastructure weather_related floods storm fire earthquake cold  \\\n",
       "0                    0               0      0     0    0          0    0   \n",
       "1                    0               1      0     1    0          0    0   \n",
       "2                    0               0      0     0    0          0    0   \n",
       "\n",
       "  other_weather direct_report  \n",
       "0             0             0  \n",
       "1             0             0  \n",
       "2             0             0  \n",
       "\n",
       "[3 rows x 40 columns]"
      ]
     },
     "execution_count": 4,
     "metadata": {},
     "output_type": "execute_result"
    }
   ],
   "source": [
    "# preview df\n",
    "df.head(3)"
   ]
  },
  {
   "cell_type": "code",
   "execution_count": 5,
   "metadata": {},
   "outputs": [],
   "source": [
    "X = df['message']\n",
    "y = df.drop(['id','original','message','genre'], axis = 1)"
   ]
  },
  {
   "cell_type": "markdown",
   "metadata": {},
   "source": [
    "### 2. Write a tokenization function to process your text data"
   ]
  },
  {
   "cell_type": "code",
   "execution_count": 6,
   "metadata": {},
   "outputs": [
    {
     "name": "stderr",
     "output_type": "stream",
     "text": [
      "[nltk_data] Downloading package punkt to\n",
      "[nltk_data]     /Users/oleksandryatsenko/nltk_data...\n",
      "[nltk_data]   Package punkt is already up-to-date!\n",
      "[nltk_data] Downloading package stopwords to\n",
      "[nltk_data]     /Users/oleksandryatsenko/nltk_data...\n",
      "[nltk_data]   Unzipping corpora/stopwords.zip.\n",
      "[nltk_data] Downloading package wordnet to\n",
      "[nltk_data]     /Users/oleksandryatsenko/nltk_data...\n",
      "[nltk_data]   Package wordnet is already up-to-date!\n"
     ]
    }
   ],
   "source": [
    "# download necessary NLTK data\n",
    "import re\n",
    "import nltk\n",
    "nltk.download('punkt')\n",
    "nltk.download('stopwords')\n",
    "nltk.download('wordnet')\n",
    "\n",
    "# import statements\n",
    "from nltk.tokenize import sent_tokenize\n",
    "from nltk.corpus import stopwords\n",
    "from nltk.stem.wordnet import WordNetLemmatizer"
   ]
  },
  {
   "cell_type": "code",
   "execution_count": 7,
   "metadata": {},
   "outputs": [],
   "source": [
    "def tokenize(text):\n",
    "    text = text.lower() # Convert to lowercase\n",
    "    text = re.sub('[^A-Za-z0-9]+',' ', text) # removing punctuation\n",
    "    words = nltk.word_tokenize(text) # tokenizing words\n",
    "    stop_words = set(stopwords.words('english')) # set of stopwords\n",
    "    filtered_words = [w for w in words if not w.lower() in stop_words]\n",
    "    \n",
    "    # initiate lemmatizer\n",
    "    lemmatizer = WordNetLemmatizer()\n",
    "\n",
    "    # iterate through each token\n",
    "    clean_tokens = []\n",
    "    for tok in filtered_words:\n",
    "        # lemmatization\n",
    "        clean_tok = lemmatizer.lemmatize(tok)\n",
    "        clean_tokens.append(clean_tok)\n",
    "    return clean_tokens"
   ]
  },
  {
   "cell_type": "markdown",
   "metadata": {},
   "source": [
    "### My experimenting with pipelines"
   ]
  },
  {
   "cell_type": "code",
   "execution_count": 8,
   "metadata": {},
   "outputs": [],
   "source": [
    "def display_results(y_test, y_pred):\n",
    "    labels = np.unique(y_pred)\n",
    "    confusion_mat = confusion_matrix(y_test, y_pred, labels=labels)\n",
    "    accuracy = (y_pred == y_test).mean()\n",
    "\n",
    "    print(\"Labels:\", labels)\n",
    "    print(\"Confusion Matrix:\\n\", confusion_mat)\n",
    "    print(\"Accuracy:\", accuracy)"
   ]
  },
  {
   "cell_type": "code",
   "execution_count": 9,
   "metadata": {},
   "outputs": [
    {
     "data": {
      "text/plain": [
       "['weather', 'update', 'cold', 'front', 'cuba', 'could', 'pas', 'haiti']"
      ]
     },
     "execution_count": 9,
     "metadata": {},
     "output_type": "execute_result"
    }
   ],
   "source": [
    "# testing tokenize fucntion\n",
    "X[0]\n",
    "\n",
    "tokenize(X[0])"
   ]
  },
  {
   "cell_type": "code",
   "execution_count": 10,
   "metadata": {},
   "outputs": [
    {
     "name": "stdout",
     "output_type": "stream",
     "text": [
      "Weather update - a cold front from Cuba that could pass over Haiti\n",
      "['weather', 'update', 'cold', 'front', 'cuba', 'could', 'pas', 'haiti'] \n",
      "\n",
      "Is the Hurricane over or is it not over\n",
      "['hurricane'] \n",
      "\n",
      "Looking for someone but no name\n",
      "['looking', 'someone', 'name'] \n",
      "\n",
      "UN reports Leogane 80-90 destroyed. Only Hospital St. Croix functioning. Needs supplies desperately.\n",
      "['un', 'report', 'leogane', '80', '90', 'destroyed', 'hospital', 'st', 'croix', 'functioning', 'need', 'supply', 'desperately'] \n",
      "\n",
      "says: west side of Haiti, rest of the country today and tonight\n",
      "['say', 'west', 'side', 'haiti', 'rest', 'country', 'today', 'tonight'] \n",
      "\n"
     ]
    }
   ],
   "source": [
    "# loop testing of tokenize fucntion\n",
    "for message in X[:5]:\n",
    "    tokens = tokenize(message)\n",
    "    print(message)\n",
    "    print(tokens, '\\n')"
   ]
  },
  {
   "cell_type": "code",
   "execution_count": 11,
   "metadata": {},
   "outputs": [],
   "source": [
    "# before creating a pipeline let's test if we can achive key steps in a \n",
    "# simple main function. Later on we will do a proper refactoring with\n",
    "# all the steps nested inside of a pipeline."
   ]
  },
  {
   "cell_type": "code",
   "execution_count": 12,
   "metadata": {},
   "outputs": [],
   "source": [
    "# managing size of random forest regressor\n",
    "# https://mljar.com/blog/random-forest-memory/\n",
    "# https://medium.com/all-things-ai/in-depth-parameter-tuning-for-random-forest-d67bb7e920d"
   ]
  },
  {
   "cell_type": "code",
   "execution_count": 13,
   "metadata": {},
   "outputs": [],
   "source": [
    "# Extracting sklearn liabraries\n",
    "\n",
    "from sklearn.metrics import confusion_matrix\n",
    "from sklearn.model_selection import train_test_split\n",
    "from sklearn.ensemble import RandomForestClassifier\n",
    "from sklearn.feature_extraction.text import CountVectorizer, TfidfTransformer\n",
    "from sklearn.multioutput import MultiOutputClassifier"
   ]
  },
  {
   "cell_type": "code",
   "execution_count": 14,
   "metadata": {},
   "outputs": [
    {
     "name": "stdout",
     "output_type": "stream",
     "text": [
      "['0' '1' '2']\n"
     ]
    }
   ],
   "source": [
    "X_train, X_test, y_train, y_test = train_test_split(X, y, test_size=0.70, random_state=56)\n",
    "print(np.unique(y_train))\n",
    "\n",
    "# https://github.com/ageron/handson-ml/issues/360 - look here"
   ]
  },
  {
   "cell_type": "code",
   "execution_count": 15,
   "metadata": {},
   "outputs": [],
   "source": [
    "# trying to convert predictions to single - digits"
   ]
  },
  {
   "cell_type": "code",
   "execution_count": 16,
   "metadata": {},
   "outputs": [],
   "source": [
    "X = df['message']\n",
    "y = df.drop(['id','original','message','genre'], axis = 1)\n",
    "X_train, X_test, y_train, y_test = train_test_split(X, y, test_size=0.70, random_state=56)\n",
    "\n",
    "vect = CountVectorizer(tokenizer=tokenize)\n",
    "tfidf = TfidfTransformer()\n",
    "clf = RandomForestClassifier(n_estimators = 10, max_depth=6) # random forest consumes too much memory\n",
    "#clf = MultiOutputClassifier(SGDClassifier(random_state=42), n_jobs=1)\n",
    "\n",
    "# train classifier\n",
    "X_train_counts = vect.fit_transform(X_train)\n",
    "X_train_tfidf = tfidf.fit_transform(X_train_counts)\n",
    "clf.fit(X_train_tfidf, y_train)\n",
    "\n",
    "# predict on test data\n",
    "X_test_counts = vect.transform(X_test)\n",
    "X_test_tfidf = tfidf.transform(X_test_counts)\n",
    "y_pred = clf.predict(X_test_tfidf)\n"
   ]
  },
  {
   "cell_type": "code",
   "execution_count": 28,
   "metadata": {},
   "outputs": [
    {
     "ename": "ValueError",
     "evalue": "multiclass-multioutput is not supported",
     "output_type": "error",
     "traceback": [
      "\u001b[0;31m---------------------------------------------------------------------------\u001b[0m",
      "\u001b[0;31mValueError\u001b[0m                                Traceback (most recent call last)",
      "\u001b[0;32m<ipython-input-28-430e012b2078>\u001b[0m in \u001b[0;36m<module>\u001b[0;34m\u001b[0m\n\u001b[0;32m----> 1\u001b[0;31m \u001b[0mconfusion_matrix\u001b[0m\u001b[0;34m(\u001b[0m\u001b[0my_test\u001b[0m\u001b[0;34m,\u001b[0m \u001b[0my_pred\u001b[0m\u001b[0;34m)\u001b[0m\u001b[0;34m\u001b[0m\u001b[0;34m\u001b[0m\u001b[0m\n\u001b[0m",
      "\u001b[0;32m~/opt/anaconda3/lib/python3.7/site-packages/sklearn/utils/validation.py\u001b[0m in \u001b[0;36minner_f\u001b[0;34m(*args, **kwargs)\u001b[0m\n\u001b[1;32m     70\u001b[0m                           FutureWarning)\n\u001b[1;32m     71\u001b[0m         \u001b[0mkwargs\u001b[0m\u001b[0;34m.\u001b[0m\u001b[0mupdate\u001b[0m\u001b[0;34m(\u001b[0m\u001b[0;34m{\u001b[0m\u001b[0mk\u001b[0m\u001b[0;34m:\u001b[0m \u001b[0marg\u001b[0m \u001b[0;32mfor\u001b[0m \u001b[0mk\u001b[0m\u001b[0;34m,\u001b[0m \u001b[0marg\u001b[0m \u001b[0;32min\u001b[0m \u001b[0mzip\u001b[0m\u001b[0;34m(\u001b[0m\u001b[0msig\u001b[0m\u001b[0;34m.\u001b[0m\u001b[0mparameters\u001b[0m\u001b[0;34m,\u001b[0m \u001b[0margs\u001b[0m\u001b[0;34m)\u001b[0m\u001b[0;34m}\u001b[0m\u001b[0;34m)\u001b[0m\u001b[0;34m\u001b[0m\u001b[0;34m\u001b[0m\u001b[0m\n\u001b[0;32m---> 72\u001b[0;31m         \u001b[0;32mreturn\u001b[0m \u001b[0mf\u001b[0m\u001b[0;34m(\u001b[0m\u001b[0;34m**\u001b[0m\u001b[0mkwargs\u001b[0m\u001b[0;34m)\u001b[0m\u001b[0;34m\u001b[0m\u001b[0;34m\u001b[0m\u001b[0m\n\u001b[0m\u001b[1;32m     73\u001b[0m     \u001b[0;32mreturn\u001b[0m \u001b[0minner_f\u001b[0m\u001b[0;34m\u001b[0m\u001b[0;34m\u001b[0m\u001b[0m\n\u001b[1;32m     74\u001b[0m \u001b[0;34m\u001b[0m\u001b[0m\n",
      "\u001b[0;32m~/opt/anaconda3/lib/python3.7/site-packages/sklearn/metrics/_classification.py\u001b[0m in \u001b[0;36mconfusion_matrix\u001b[0;34m(y_true, y_pred, labels, sample_weight, normalize)\u001b[0m\n\u001b[1;32m    274\u001b[0m \u001b[0;34m\u001b[0m\u001b[0m\n\u001b[1;32m    275\u001b[0m     \"\"\"\n\u001b[0;32m--> 276\u001b[0;31m     \u001b[0my_type\u001b[0m\u001b[0;34m,\u001b[0m \u001b[0my_true\u001b[0m\u001b[0;34m,\u001b[0m \u001b[0my_pred\u001b[0m \u001b[0;34m=\u001b[0m \u001b[0m_check_targets\u001b[0m\u001b[0;34m(\u001b[0m\u001b[0my_true\u001b[0m\u001b[0;34m,\u001b[0m \u001b[0my_pred\u001b[0m\u001b[0;34m)\u001b[0m\u001b[0;34m\u001b[0m\u001b[0;34m\u001b[0m\u001b[0m\n\u001b[0m\u001b[1;32m    277\u001b[0m     \u001b[0;32mif\u001b[0m \u001b[0my_type\u001b[0m \u001b[0;32mnot\u001b[0m \u001b[0;32min\u001b[0m \u001b[0;34m(\u001b[0m\u001b[0;34m\"binary\"\u001b[0m\u001b[0;34m,\u001b[0m \u001b[0;34m\"multiclass\"\u001b[0m\u001b[0;34m)\u001b[0m\u001b[0;34m:\u001b[0m\u001b[0;34m\u001b[0m\u001b[0;34m\u001b[0m\u001b[0m\n\u001b[1;32m    278\u001b[0m         \u001b[0;32mraise\u001b[0m \u001b[0mValueError\u001b[0m\u001b[0;34m(\u001b[0m\u001b[0;34m\"%s is not supported\"\u001b[0m \u001b[0;34m%\u001b[0m \u001b[0my_type\u001b[0m\u001b[0;34m)\u001b[0m\u001b[0;34m\u001b[0m\u001b[0;34m\u001b[0m\u001b[0m\n",
      "\u001b[0;32m~/opt/anaconda3/lib/python3.7/site-packages/sklearn/metrics/_classification.py\u001b[0m in \u001b[0;36m_check_targets\u001b[0;34m(y_true, y_pred)\u001b[0m\n\u001b[1;32m     96\u001b[0m     \u001b[0;31m# No metrics support \"multiclass-multioutput\" format\u001b[0m\u001b[0;34m\u001b[0m\u001b[0;34m\u001b[0m\u001b[0;34m\u001b[0m\u001b[0m\n\u001b[1;32m     97\u001b[0m     \u001b[0;32mif\u001b[0m \u001b[0;34m(\u001b[0m\u001b[0my_type\u001b[0m \u001b[0;32mnot\u001b[0m \u001b[0;32min\u001b[0m \u001b[0;34m[\u001b[0m\u001b[0;34m\"binary\"\u001b[0m\u001b[0;34m,\u001b[0m \u001b[0;34m\"multiclass\"\u001b[0m\u001b[0;34m,\u001b[0m \u001b[0;34m\"multilabel-indicator\"\u001b[0m\u001b[0;34m]\u001b[0m\u001b[0;34m)\u001b[0m\u001b[0;34m:\u001b[0m\u001b[0;34m\u001b[0m\u001b[0;34m\u001b[0m\u001b[0m\n\u001b[0;32m---> 98\u001b[0;31m         \u001b[0;32mraise\u001b[0m \u001b[0mValueError\u001b[0m\u001b[0;34m(\u001b[0m\u001b[0;34m\"{0} is not supported\"\u001b[0m\u001b[0;34m.\u001b[0m\u001b[0mformat\u001b[0m\u001b[0;34m(\u001b[0m\u001b[0my_type\u001b[0m\u001b[0;34m)\u001b[0m\u001b[0;34m)\u001b[0m\u001b[0;34m\u001b[0m\u001b[0;34m\u001b[0m\u001b[0m\n\u001b[0m\u001b[1;32m     99\u001b[0m \u001b[0;34m\u001b[0m\u001b[0m\n\u001b[1;32m    100\u001b[0m     \u001b[0;32mif\u001b[0m \u001b[0my_type\u001b[0m \u001b[0;32min\u001b[0m \u001b[0;34m[\u001b[0m\u001b[0;34m\"binary\"\u001b[0m\u001b[0;34m,\u001b[0m \u001b[0;34m\"multiclass\"\u001b[0m\u001b[0;34m]\u001b[0m\u001b[0;34m:\u001b[0m\u001b[0;34m\u001b[0m\u001b[0;34m\u001b[0m\u001b[0m\n",
      "\u001b[0;31mValueError\u001b[0m: multiclass-multioutput is not supported"
     ]
    }
   ],
   "source": [
    "confusion_matrix(y_test, y_pred)"
   ]
  },
  {
   "cell_type": "code",
   "execution_count": 39,
   "metadata": {},
   "outputs": [
    {
     "name": "stdout",
     "output_type": "stream",
     "text": [
      "[[ 1.  0.  0. ...,  0.  0.  0.]\n",
      " [ 1.  0.  0. ...,  0.  0.  0.]\n",
      " [ 1.  0.  0. ...,  0.  0.  0.]\n",
      " ..., \n",
      " [ 1.  0.  0. ...,  0.  0.  0.]\n",
      " [ 1.  0.  0. ...,  0.  0.  0.]\n",
      " [ 1.  0.  0. ...,  0.  0.  0.]]\n"
     ]
    }
   ],
   "source": [
    "print (y_pred)"
   ]
  },
  {
   "cell_type": "code",
   "execution_count": 36,
   "metadata": {},
   "outputs": [
    {
     "name": "stdout",
     "output_type": "stream",
     "text": [
      "(18352, 36)\n",
      "(18352, 36)\n"
     ]
    },
    {
     "data": {
      "text/plain": [
       "array([[18352]])"
      ]
     },
     "execution_count": 36,
     "metadata": {},
     "output_type": "execute_result"
    }
   ],
   "source": [
    "from sklearn.metrics import classification_report\n",
    "\n",
    "print(y_test.shape)\n",
    "print(y_pred.shape)\n",
    "\n",
    "# \n",
    "y_test_arr = y_test.values\n",
    "\n",
    "y_test_arg = np.argmax(y_test_arr, axis=1)\n",
    "y_pred_arg = np.argmax(y_pred, axis=1)\n",
    "\n",
    "# print(y_test_arg)\n",
    "# print(y_test_arg)\n",
    "\n",
    "# print(classification_report(y_test_arr, y_pred))\n",
    "\n",
    "confusion_matrix(y_test_arg, y_pred_arg)"
   ]
  },
  {
   "cell_type": "code",
   "execution_count": 27,
   "metadata": {},
   "outputs": [
    {
     "data": {
      "text/plain": [
       "(18352, 36)"
      ]
     },
     "execution_count": 27,
     "metadata": {},
     "output_type": "execute_result"
    }
   ],
   "source": [
    "y_test_arr.shape"
   ]
  },
  {
   "cell_type": "code",
   "execution_count": 28,
   "metadata": {},
   "outputs": [
    {
     "data": {
      "text/plain": [
       "(18352, 36)"
      ]
     },
     "execution_count": 28,
     "metadata": {},
     "output_type": "execute_result"
    }
   ],
   "source": [
    "y_pred.shape"
   ]
  },
  {
   "cell_type": "code",
   "execution_count": 51,
   "metadata": {},
   "outputs": [
    {
     "data": {
      "text/plain": [
       "(      related request offer aid_related medical_help medical_products  \\\n",
       " 10531       1       0     0           0            0                0   \n",
       " 18648       1       0     0           1            0                1   \n",
       " 7123        1       1     0           1            0                0   \n",
       " 17123       1       0     0           0            0                0   \n",
       " 24677       1       0     0           1            1                1   \n",
       " 3477        1       1     0           1            0                0   \n",
       " 1857        1       0     0           0            0                0   \n",
       " 18532       1       0     0           1            0                0   \n",
       " 10229       1       0     0           0            0                0   \n",
       " 21470       1       0     0           1            0                0   \n",
       " 2393        1       0     0           0            0                0   \n",
       " 20809       1       1     0           0            0                0   \n",
       " 23586       0       0     0           0            0                0   \n",
       " 9107        1       0     0           0            0                0   \n",
       " 3337        0       0     0           0            0                0   \n",
       " 4761        1       1     0           1            0                0   \n",
       " 11318       0       0     0           0            0                0   \n",
       " 4830        1       1     0           1            0                0   \n",
       " 1906        1       0     0           0            0                0   \n",
       " 23650       1       0     0           1            0                0   \n",
       " 11478       0       0     0           0            0                0   \n",
       " 23195       0       0     0           0            0                0   \n",
       " 14569       1       0     0           0            0                0   \n",
       " 20521       1       0     0           0            0                0   \n",
       " 25134       1       0     0           0            0                0   \n",
       " 5357        0       0     0           0            0                0   \n",
       " 22319       1       0     0           0            0                0   \n",
       " 20547       1       1     0           0            0                0   \n",
       " 3605        1       1     0           1            0                0   \n",
       " 18455       1       0     0           1            0                0   \n",
       " ...       ...     ...   ...         ...          ...              ...   \n",
       " 22995       1       0     0           1            1                0   \n",
       " 411         1       1     0           1            1                0   \n",
       " 24204       0       0     0           0            0                0   \n",
       " 14155       1       0     0           0            0                0   \n",
       " 18552       0       0     0           0            0                0   \n",
       " 10990       1       0     0           0            0                0   \n",
       " 6683        1       0     0           0            0                0   \n",
       " 12880       1       0     0           0            0                0   \n",
       " 14755       1       0     0           1            0                0   \n",
       " 4158        0       0     0           0            0                0   \n",
       " 16876       1       0     0           1            0                0   \n",
       " 23270       1       0     0           0            0                0   \n",
       " 9163        1       1     0           1            0                0   \n",
       " 19300       1       0     0           1            0                0   \n",
       " 11136       1       0     0           1            0                0   \n",
       " 22009       1       0     0           1            1                1   \n",
       " 1525        0       0     0           0            0                0   \n",
       " 13747       1       0     0           0            0                0   \n",
       " 12220       2       0     0           0            0                0   \n",
       " 6462        1       1     0           1            0                0   \n",
       " 11670       1       0     0           0            0                0   \n",
       " 24072       1       0     0           0            0                0   \n",
       " 13239       1       0     0           1            0                0   \n",
       " 4920        0       0     0           0            0                0   \n",
       " 1626        1       0     0           0            0                0   \n",
       " 19403       1       0     0           1            0                0   \n",
       " 20728       1       0     0           1            0                0   \n",
       " 15433       1       0     0           0            0                0   \n",
       " 9076        0       0     0           0            0                0   \n",
       " 25056       0       0     0           0            0                0   \n",
       " \n",
       "       search_and_rescue security military child_alone      ...       \\\n",
       " 10531                 0        0        0           0      ...        \n",
       " 18648                 0        1        0           0      ...        \n",
       " 7123                  0        0        0           0      ...        \n",
       " 17123                 0        0        0           0      ...        \n",
       " 24677                 1        0        0           0      ...        \n",
       " 3477                  1        0        0           0      ...        \n",
       " 1857                  0        0        0           0      ...        \n",
       " 18532                 0        0        0           0      ...        \n",
       " 10229                 0        0        0           0      ...        \n",
       " 21470                 0        0        0           0      ...        \n",
       " 2393                  0        0        0           0      ...        \n",
       " 20809                 0        0        0           0      ...        \n",
       " 23586                 0        0        0           0      ...        \n",
       " 9107                  0        0        0           0      ...        \n",
       " 3337                  0        0        0           0      ...        \n",
       " 4761                  0        0        0           0      ...        \n",
       " 11318                 0        0        0           0      ...        \n",
       " 4830                  0        0        0           0      ...        \n",
       " 1906                  0        0        0           0      ...        \n",
       " 23650                 0        0        0           0      ...        \n",
       " 11478                 0        0        0           0      ...        \n",
       " 23195                 0        0        0           0      ...        \n",
       " 14569                 0        0        0           0      ...        \n",
       " 20521                 0        0        0           0      ...        \n",
       " 25134                 0        0        0           0      ...        \n",
       " 5357                  0        0        0           0      ...        \n",
       " 22319                 0        0        0           0      ...        \n",
       " 20547                 0        0        0           0      ...        \n",
       " 3605                  0        0        0           0      ...        \n",
       " 18455                 0        1        0           0      ...        \n",
       " ...                 ...      ...      ...         ...      ...        \n",
       " 22995                 0        0        0           0      ...        \n",
       " 411                   0        0        0           0      ...        \n",
       " 24204                 0        0        0           0      ...        \n",
       " 14155                 0        0        0           0      ...        \n",
       " 18552                 0        0        0           0      ...        \n",
       " 10990                 0        0        0           0      ...        \n",
       " 6683                  0        0        0           0      ...        \n",
       " 12880                 0        0        0           0      ...        \n",
       " 14755                 0        0        0           0      ...        \n",
       " 4158                  0        0        0           0      ...        \n",
       " 16876                 0        0        0           0      ...        \n",
       " 23270                 0        0        0           0      ...        \n",
       " 9163                  0        0        0           0      ...        \n",
       " 19300                 0        0        1           0      ...        \n",
       " 11136                 0        0        0           0      ...        \n",
       " 22009                 0        0        0           0      ...        \n",
       " 1525                  0        0        0           0      ...        \n",
       " 13747                 0        0        0           0      ...        \n",
       " 12220                 0        0        0           0      ...        \n",
       " 6462                  0        0        0           0      ...        \n",
       " 11670                 0        0        0           0      ...        \n",
       " 24072                 0        0        0           0      ...        \n",
       " 13239                 1        0        0           0      ...        \n",
       " 4920                  0        0        0           0      ...        \n",
       " 1626                  0        0        0           0      ...        \n",
       " 19403                 1        0        0           0      ...        \n",
       " 20728                 0        0        0           0      ...        \n",
       " 15433                 0        0        0           0      ...        \n",
       " 9076                  0        0        0           0      ...        \n",
       " 25056                 0        0        0           0      ...        \n",
       " \n",
       "       aid_centers other_infrastructure weather_related floods storm fire  \\\n",
       " 10531           0                    0               0      0     0    0   \n",
       " 18648           0                    0               1      1     0    0   \n",
       " 7123            0                    0               0      0     0    0   \n",
       " 17123           0                    0               1      0     1    0   \n",
       " 24677           0                    0               0      0     0    0   \n",
       " 3477            0                    0               0      0     0    0   \n",
       " 1857            0                    0               0      0     0    0   \n",
       " 18532           0                    0               0      0     0    0   \n",
       " 10229           0                    0               1      0     0    0   \n",
       " 21470           0                    0               0      0     0    0   \n",
       " 2393            0                    0               0      0     0    0   \n",
       " 20809           0                    0               0      0     0    0   \n",
       " 23586           0                    0               0      0     0    0   \n",
       " 9107            0                    0               0      0     0    0   \n",
       " 3337            0                    0               0      0     0    0   \n",
       " 4761            0                    0               0      0     0    0   \n",
       " 11318           0                    0               0      0     0    0   \n",
       " 4830            0                    0               0      0     0    0   \n",
       " 1906            0                    0               0      0     0    0   \n",
       " 23650           0                    1               1      0     0    0   \n",
       " 11478           0                    0               0      0     0    0   \n",
       " 23195           0                    0               0      0     0    0   \n",
       " 14569           0                    0               1      1     1    0   \n",
       " 20521           0                    0               1      0     1    0   \n",
       " 25134           0                    0               0      0     0    0   \n",
       " 5357            0                    0               0      0     0    0   \n",
       " 22319           0                    0               0      0     0    0   \n",
       " 20547           0                    0               0      0     0    0   \n",
       " 3605            0                    0               0      0     0    0   \n",
       " 18455           0                    0               1      1     0    0   \n",
       " ...           ...                  ...             ...    ...   ...  ...   \n",
       " 22995           0                    0               0      0     0    0   \n",
       " 411             0                    0               0      0     0    0   \n",
       " 24204           0                    0               0      0     0    0   \n",
       " 14155           0                    1               1      0     0    0   \n",
       " 18552           0                    0               0      0     0    0   \n",
       " 10990           0                    0               1      0     1    0   \n",
       " 6683            0                    0               1      0     0    0   \n",
       " 12880           0                    0               1      0     1    0   \n",
       " 14755           0                    0               1      1     1    0   \n",
       " 4158            0                    0               0      0     0    0   \n",
       " 16876           0                    1               1      0     0    0   \n",
       " 23270           0                    0               0      0     0    0   \n",
       " 9163            0                    0               1      0     0    0   \n",
       " 19300           0                    0               0      0     0    0   \n",
       " 11136           0                    0               1      0     1    0   \n",
       " 22009           0                    0               0      0     0    0   \n",
       " 1525            0                    0               0      0     0    0   \n",
       " 13747           0                    0               1      0     0    0   \n",
       " 12220           0                    0               0      0     0    0   \n",
       " 6462            0                    0               0      0     0    0   \n",
       " 11670           0                    0               1      0     0    0   \n",
       " 24072           0                    0               0      0     0    0   \n",
       " 13239           0                    0               1      0     1    0   \n",
       " 4920            0                    0               0      0     0    0   \n",
       " 1626            0                    0               0      0     0    0   \n",
       " 19403           0                    0               1      1     0    0   \n",
       " 20728           0                    0               0      0     0    0   \n",
       " 15433           0                    0               0      0     0    0   \n",
       " 9076            0                    0               0      0     0    0   \n",
       " 25056           0                    0               0      0     0    0   \n",
       " \n",
       "       earthquake cold other_weather direct_report  \n",
       " 10531          0    0             0             0  \n",
       " 18648          0    0             0             0  \n",
       " 7123           0    0             0             1  \n",
       " 17123          0    0             0             0  \n",
       " 24677          0    0             0             1  \n",
       " 3477           0    0             0             1  \n",
       " 1857           0    0             0             0  \n",
       " 18532          0    0             0             0  \n",
       " 10229          1    0             0             0  \n",
       " 21470          0    0             0             0  \n",
       " 2393           0    0             0             0  \n",
       " 20809          0    0             0             1  \n",
       " 23586          0    0             0             0  \n",
       " 9107           0    0             0             0  \n",
       " 3337           0    0             0             0  \n",
       " 4761           0    0             0             0  \n",
       " 11318          0    0             0             0  \n",
       " 4830           0    0             0             0  \n",
       " 1906           0    0             0             0  \n",
       " 23650          0    0             1             0  \n",
       " 11478          0    0             0             0  \n",
       " 23195          0    0             0             0  \n",
       " 14569          0    0             0             0  \n",
       " 20521          0    0             1             0  \n",
       " 25134          0    0             0             0  \n",
       " 5357           0    0             0             0  \n",
       " 22319          0    0             0             0  \n",
       " 20547          0    0             0             1  \n",
       " 3605           0    0             0             1  \n",
       " 18455          0    0             0             0  \n",
       " ...          ...  ...           ...           ...  \n",
       " 22995          0    0             0             0  \n",
       " 411            0    0             0             1  \n",
       " 24204          0    0             0             0  \n",
       " 14155          0    0             1             0  \n",
       " 18552          0    0             0             0  \n",
       " 10990          0    0             0             1  \n",
       " 6683           1    0             0             0  \n",
       " 12880          0    0             0             1  \n",
       " 14755          0    0             0             0  \n",
       " 4158           0    0             0             0  \n",
       " 16876          1    0             1             0  \n",
       " 23270          0    0             0             0  \n",
       " 9163           1    0             0             1  \n",
       " 19300          0    0             0             0  \n",
       " 11136          0    0             0             1  \n",
       " 22009          0    0             0             0  \n",
       " 1525           0    0             0             0  \n",
       " 13747          0    0             1             0  \n",
       " 12220          0    0             0             0  \n",
       " 6462           0    0             0             1  \n",
       " 11670          1    0             0             0  \n",
       " 24072          0    0             0             0  \n",
       " 13239          0    0             0             0  \n",
       " 4920           0    0             0             0  \n",
       " 1626           0    0             0             1  \n",
       " 19403          0    0             0             0  \n",
       " 20728          0    0             0             0  \n",
       " 15433          0    0             0             0  \n",
       " 9076           0    0             0             0  \n",
       " 25056          0    0             0             0  \n",
       " \n",
       " [18352 rows x 36 columns], array([[ 1.,  0.,  0., ...,  0.,  0.,  0.],\n",
       "        [ 1.,  0.,  0., ...,  0.,  0.,  0.],\n",
       "        [ 1.,  0.,  0., ...,  0.,  0.,  0.],\n",
       "        ..., \n",
       "        [ 1.,  0.,  0., ...,  0.,  0.,  0.],\n",
       "        [ 1.,  0.,  0., ...,  0.,  0.,  0.],\n",
       "        [ 1.,  0.,  0., ...,  0.,  0.,  0.]]))"
      ]
     },
     "execution_count": 51,
     "metadata": {},
     "output_type": "execute_result"
    }
   ],
   "source": [
    "\n",
    "\n",
    "# reasons for error \n",
    "# https://stackoverflow.com/questions/20335853/scikit-multilabel-classification-valueerror-bad-input-shape\n",
    "\n",
    "# STOPPED HERE\n",
    "# converting one hot encoded multi-label back to actual labels \n",
    "# https://stackoverflow.com/questions/54589669/confusion-matrix-error-classification-metrics-cant-handle-a-mix-of-multilabel/54595455"
   ]
  },
  {
   "cell_type": "code",
   "execution_count": 52,
   "metadata": {},
   "outputs": [
    {
     "ename": "NameError",
     "evalue": "name 'y_pred' is not defined",
     "output_type": "error",
     "traceback": [
      "\u001b[0;31m---------------------------------------------------------------------------\u001b[0m",
      "\u001b[0;31mNameError\u001b[0m                                 Traceback (most recent call last)",
      "\u001b[0;32m<ipython-input-52-3aaf935e6aec>\u001b[0m in \u001b[0;36m<module>\u001b[0;34m()\u001b[0m\n\u001b[0;32m----> 1\u001b[0;31m \u001b[0my_pred\u001b[0m\u001b[0;34m\u001b[0m\u001b[0m\n\u001b[0m",
      "\u001b[0;31mNameError\u001b[0m: name 'y_pred' is not defined"
     ]
    }
   ],
   "source": [
    "y_pred"
   ]
  },
  {
   "cell_type": "markdown",
   "metadata": {},
   "source": [
    "### 3. Build a machine learning pipeline\n",
    "This machine pipeline should take in the `message` column as input and output classification results on the other 36 categories in the dataset. You may find the [MultiOutputClassifier](http://scikit-learn.org/stable/modules/generated/sklearn.multioutput.MultiOutputClassifier.html) helpful for predicting multiple target variables."
   ]
  },
  {
   "cell_type": "code",
   "execution_count": null,
   "metadata": {},
   "outputs": [],
   "source": [
    "pipeline = "
   ]
  },
  {
   "cell_type": "markdown",
   "metadata": {},
   "source": [
    "### 4. Train pipeline\n",
    "- Split data into train and test sets\n",
    "- Train pipeline"
   ]
  },
  {
   "cell_type": "code",
   "execution_count": null,
   "metadata": {},
   "outputs": [],
   "source": []
  },
  {
   "cell_type": "markdown",
   "metadata": {},
   "source": [
    "### 5. Test your model\n",
    "Report the f1 score, precision and recall for each output category of the dataset. You can do this by iterating through the columns and calling sklearn's `classification_report` on each."
   ]
  },
  {
   "cell_type": "code",
   "execution_count": null,
   "metadata": {},
   "outputs": [],
   "source": []
  },
  {
   "cell_type": "markdown",
   "metadata": {},
   "source": [
    "### 6. Improve your model\n",
    "Use grid search to find better parameters. "
   ]
  },
  {
   "cell_type": "code",
   "execution_count": null,
   "metadata": {},
   "outputs": [],
   "source": [
    "parameters = \n",
    "\n",
    "cv = "
   ]
  },
  {
   "cell_type": "markdown",
   "metadata": {},
   "source": [
    "### 7. Test your model\n",
    "Show the accuracy, precision, and recall of the tuned model.  \n",
    "\n",
    "Since this project focuses on code quality, process, and  pipelines, there is no minimum performance metric needed to pass. However, make sure to fine tune your models for accuracy, precision and recall to make your project stand out - especially for your portfolio!"
   ]
  },
  {
   "cell_type": "code",
   "execution_count": null,
   "metadata": {},
   "outputs": [],
   "source": []
  },
  {
   "cell_type": "markdown",
   "metadata": {},
   "source": [
    "### 8. Try improving your model further. Here are a few ideas:\n",
    "* try other machine learning algorithms\n",
    "* add other features besides the TF-IDF"
   ]
  },
  {
   "cell_type": "code",
   "execution_count": null,
   "metadata": {},
   "outputs": [],
   "source": []
  },
  {
   "cell_type": "markdown",
   "metadata": {},
   "source": [
    "### 9. Export your model as a pickle file"
   ]
  },
  {
   "cell_type": "code",
   "execution_count": null,
   "metadata": {},
   "outputs": [],
   "source": []
  },
  {
   "cell_type": "markdown",
   "metadata": {},
   "source": [
    "### 10. Use this notebook to complete `train.py`\n",
    "Use the template file attached in the Resources folder to write a script that runs the steps above to create a database and export a model based on a new dataset specified by the user."
   ]
  },
  {
   "cell_type": "code",
   "execution_count": null,
   "metadata": {},
   "outputs": [],
   "source": []
  }
 ],
 "metadata": {
  "kernelspec": {
   "display_name": "Python 3",
   "language": "python",
   "name": "python3"
  },
  "language_info": {
   "codemirror_mode": {
    "name": "ipython",
    "version": 3
   },
   "file_extension": ".py",
   "mimetype": "text/x-python",
   "name": "python",
   "nbconvert_exporter": "python",
   "pygments_lexer": "ipython3",
   "version": "3.7.6"
  }
 },
 "nbformat": 4,
 "nbformat_minor": 2
}
