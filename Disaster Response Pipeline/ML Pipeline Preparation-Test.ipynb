{
 "cells": [
  {
   "cell_type": "markdown",
   "metadata": {},
   "source": [
    "# ML Pipeline Preparation\n",
    "Follow the instructions below to help you create your ML pipeline.\n",
    "### 1. Import libraries and load data from database.\n",
    "- Import Python libraries\n",
    "- Load dataset from database with [`read_sql_table`](https://pandas.pydata.org/pandas-docs/stable/generated/pandas.read_sql_table.html)\n",
    "- Define feature and target variables X and Y"
   ]
  },
  {
   "cell_type": "code",
   "execution_count": 325,
   "metadata": {},
   "outputs": [
    {
     "name": "stderr",
     "output_type": "stream",
     "text": [
      "[nltk_data] Downloading package punkt to\n",
      "[nltk_data]     /Users/oleksandryatsenko/nltk_data...\n",
      "[nltk_data]   Package punkt is already up-to-date!\n",
      "[nltk_data] Downloading package stopwords to\n",
      "[nltk_data]     /Users/oleksandryatsenko/nltk_data...\n",
      "[nltk_data]   Package stopwords is already up-to-date!\n",
      "[nltk_data] Downloading package wordnet to\n",
      "[nltk_data]     /Users/oleksandryatsenko/nltk_data...\n",
      "[nltk_data]   Package wordnet is already up-to-date!\n"
     ]
    }
   ],
   "source": [
    "# import packages\n",
    "\n",
    "# data extraction\n",
    "from sqlalchemy import create_engine\n",
    "\n",
    "# standard data processing\n",
    "import pandas as pd\n",
    "import numpy as np\n",
    "import sys\n",
    "\n",
    "# tokenization\n",
    "import re\n",
    "import nltk\n",
    "nltk.download('punkt')\n",
    "nltk.download('stopwords')\n",
    "nltk.download('wordnet')\n",
    "\n",
    "from nltk.tokenize import sent_tokenize\n",
    "from nltk.corpus import stopwords\n",
    "from nltk.stem.wordnet import WordNetLemmatizer\n",
    "\n",
    "# visualization libraries\n",
    "\n",
    "import pandas as pd\n",
    "import matplotlib.pyplot as plt\n",
    "import seaborn as sns\n",
    "\n",
    "# Extracting sklearn liabraries\n",
    "\n",
    "from sklearn.metrics import confusion_matrix\n",
    "from sklearn.metrics import multilabel_confusion_matrix\n",
    "from sklearn.model_selection import train_test_split\n",
    "from sklearn.ensemble import RandomForestClassifier\n",
    "from sklearn.model_selection import GridSearchCV\n",
    "from sklearn.feature_extraction.text import CountVectorizer, TfidfTransformer\n",
    "from sklearn.pipeline import Pipeline\n",
    "from sklearn.metrics import classification_report\n",
    "from sklearn.naive_bayes import MultinomialNB\n",
    "from sklearn.multiclass import OneVsRestClassifier\n",
    "from sklearn.svm import LinearSVC\n",
    "from sklearn.linear_model import LogisticRegression\n",
    "\n"
   ]
  },
  {
   "cell_type": "code",
   "execution_count": 326,
   "metadata": {},
   "outputs": [],
   "source": [
    "def load_data():\n",
    "    # load data from database\n",
    "    engine = create_engine('sqlite:///TweetsDatabase.db')\n",
    "    df = pd.read_sql_table('TweetsDatabase', engine)\n",
    "    \n",
    "    # defining features - X and labels y\n",
    "    X = df['message']\n",
    "    y = df.drop(['id','original','message','genre'], axis = 1)\n",
    "    \n",
    "    # Replacing rougue 2 values\n",
    "    y.related.replace('2','1',inplace=True)\n",
    "    y = y.astype(int)\n",
    "    return X,y"
   ]
  },
  {
   "cell_type": "code",
   "execution_count": 327,
   "metadata": {},
   "outputs": [],
   "source": [
    "X,y = load_data()"
   ]
  },
  {
   "cell_type": "code",
   "execution_count": 328,
   "metadata": {},
   "outputs": [
    {
     "name": "stdout",
     "output_type": "stream",
     "text": [
      "[0 1]\n"
     ]
    }
   ],
   "source": [
    "print(np.unique(y))"
   ]
  },
  {
   "cell_type": "code",
   "execution_count": 329,
   "metadata": {},
   "outputs": [
    {
     "name": "stdout",
     "output_type": "stream",
     "text": [
      "related 20094\n",
      "request 4474\n",
      "offer 118\n",
      "aid_related 10860\n",
      "medical_help 2084\n",
      "medical_products 1313\n",
      "search_and_rescue 724\n",
      "security 471\n",
      "military 860\n",
      "child_alone 0\n",
      "water 1672\n",
      "food 2923\n",
      "shelter 2314\n",
      "clothing 405\n",
      "money 604\n",
      "missing_people 298\n",
      "refugees 875\n",
      "death 1194\n",
      "other_aid 3446\n",
      "infrastructure_related 1705\n",
      "transport 1201\n",
      "buildings 1333\n",
      "electricity 532\n",
      "tools 159\n",
      "hospitals 283\n",
      "shops 120\n",
      "aid_centers 309\n",
      "other_infrastructure 1151\n",
      "weather_related 7297\n",
      "floods 2155\n",
      "storm 2443\n",
      "fire 282\n",
      "earthquake 2455\n",
      "cold 530\n",
      "other_weather 1376\n",
      "direct_report 5075\n"
     ]
    }
   ],
   "source": [
    "# verifying total cases of each instance in the features\n",
    "for col in list(y.columns):\n",
    "    cases = y[col].sum()\n",
    "    print(col, cases)"
   ]
  },
  {
   "cell_type": "code",
   "execution_count": 330,
   "metadata": {},
   "outputs": [],
   "source": [
    "# removing columns without records\n",
    "\n",
    "y = y.drop(['child_alone'], axis=1)"
   ]
  },
  {
   "cell_type": "markdown",
   "metadata": {},
   "source": [
    "### 2. Write a tokenization function to process your text data"
   ]
  },
  {
   "cell_type": "code",
   "execution_count": 331,
   "metadata": {},
   "outputs": [],
   "source": [
    "def tokenize(text):\n",
    "    # text cleaning\n",
    "    text = text.lower() # Convert to lowercase\n",
    "    text = re.sub('[^A-Za-z0-9]+',' ', text) # removing punctuation\n",
    "    words = nltk.word_tokenize(text) # tokenizing words\n",
    "    stop_words = set(stopwords.words('english')) # adding set of stopwords\n",
    "    filtered_words = [w for w in words if not w.lower() in stop_words] # filtering words\n",
    "    \n",
    "    # initiate lemmatizer\n",
    "    lemmatizer = WordNetLemmatizer()\n",
    "\n",
    "    # iterate through each token\n",
    "    clean_tokens = []\n",
    "    for tok in filtered_words:\n",
    "        # lemmatization\n",
    "        clean_tok = lemmatizer.lemmatize(tok)\n",
    "        clean_tokens.append(clean_tok)\n",
    "    return clean_tokens"
   ]
  },
  {
   "cell_type": "markdown",
   "metadata": {},
   "source": [
    "### Pipeline components"
   ]
  },
  {
   "cell_type": "code",
   "execution_count": 332,
   "metadata": {},
   "outputs": [],
   "source": [
    "def print_confusion_matrix(confusion_matrix, axes, class_label, class_names, fontsize=14):\n",
    "\n",
    "    df_cm = pd.DataFrame(\n",
    "        confusion_matrix, index=class_names, columns=class_names,\n",
    "    )\n",
    "\n",
    "    try:\n",
    "        heatmap = sns.heatmap(df_cm, annot=True, fmt=\"d\", cbar=False, ax=axes)\n",
    "    except ValueError:\n",
    "        raise ValueError(\"Confusion matrix values must be integers.\")\n",
    "    heatmap.yaxis.set_ticklabels(heatmap.yaxis.get_ticklabels(), rotation=0, ha='right', fontsize=fontsize)\n",
    "    heatmap.xaxis.set_ticklabels(heatmap.xaxis.get_ticklabels(), rotation=45, ha='right', fontsize=fontsize)\n",
    "    axes.set_ylabel('True label')\n",
    "    axes.set_xlabel('Predicted label')\n",
    "    axes.set_title(\"Confusion Matrix for the class - \" + class_label)"
   ]
  },
  {
   "cell_type": "code",
   "execution_count": 333,
   "metadata": {},
   "outputs": [],
   "source": [
    "def display_results(y_test, y_pred):\n",
    "    labels = list(y_test.columns.values)\n",
    "    vis_arr = multilabel_confusion_matrix(y_test, y_pred)\n",
    "    fig, ax = plt.subplots(4, 4, figsize=(18, 9))\n",
    "    \n",
    "    return labels, ax, fig, vis_arr\n",
    "    \n",
    "    # accuracy = (y_pred == y_test).mean()\n",
    "    # print(\"Labels:\", labels)\n",
    "    # print(\"Confusion Matrix:\\n\", confusion_mat)\n",
    "    # print(\"Accuracy:\", accuracy)"
   ]
  },
  {
   "cell_type": "code",
   "execution_count": 334,
   "metadata": {},
   "outputs": [],
   "source": [
    "def model_pipeline():\n",
    "    pipeline = Pipeline([\n",
    "        ('vect', CountVectorizer(tokenizer=tokenize)),\n",
    "        ('tfidf', TfidfTransformer()),\n",
    "        #('clf', OneVsRestClassifier(MultinomialNB(fit_prior=True, class_prior=None))),\n",
    "        ('clf', RandomForestClassifier()),\n",
    "    ])\n",
    "    \n",
    "    # WARNING: check the full set of all parameters we can use in gridsearch - pipeline.get_params()\n",
    "    parameters = {\n",
    "        'tfidf__use_idf': (True, False)\n",
    "    }\n",
    "\n",
    "    # cv = GridSearchCV(pipeline, param_grid=parameters)\n",
    "    cv = GridSearchCV(pipeline, param_grid=parameters, cv = 3)\n",
    "    return cv\n",
    "        # 'clf__n_estimators': [50, 100, 200],\n",
    "        # 'clf__min_samples_split': [2, 3, 4],\n",
    "        # 'tfidf__use_idf': (True, False),\n",
    "        # 'vect__ngram_range': ((1, 1), (1, 2)),\n",
    "        # 'vect__max_df': (0.5, 0.75, 1.0),\n",
    "        # 'vect__max_features': (None, 5000, 10000),"
   ]
  },
  {
   "cell_type": "code",
   "execution_count": 335,
   "metadata": {},
   "outputs": [],
   "source": [
    "def main():\n",
    "    X, y = load_data()\n",
    "    X_train, X_test, y_train, y_test = train_test_split(X, y, test_size=0.5, random_state=42, shuffle=True)\n",
    "    \n",
    "    # stratify=y,\n",
    "    # iterative train test-split for stratified sampling\n",
    "    # X_train, y_train, X_test, y_test = iterative_train_test_split(X, y, test_size=0.2)\n",
    "\n",
    "    model = model_pipeline()\n",
    "    model.fit(X_train, y_train)\n",
    "    y_pred = model.predict(X_test)\n",
    "    \n",
    "    labels, ax, fig, vis_arr = display_results(y_test, y_pred)\n",
    "    \n",
    "    # WARNING: verify that [\"Y\", \"N\"] is the right position for TP/TN\n",
    "    for axes, cfs_matrix, label in zip(ax.flatten(), vis_arr, labels):\n",
    "        print_confusion_matrix(cfs_matrix, axes, label, [\"N\", \"Y\"]) \n",
    "\n",
    "    fig.tight_layout()\n",
    "    plt.show() # this actually returns charts\n",
    "    print(classification_report(y_test, y_pred))"
   ]
  },
  {
   "cell_type": "code",
   "execution_count": 336,
   "metadata": {},
   "outputs": [
    {
     "data": {
      "image/png": "[encoded data removed]",
      "text/plain": [
       "<Figure size 1296x648 with 16 Axes>"
      ]
     },
     "metadata": {
      "needs_background": "light"
     },
     "output_type": "display_data"
    },
    {
     "name": "stdout",
     "output_type": "stream",
     "text": [
      "              precision    recall  f1-score   support\n",
      "\n",
      "           0       0.84      0.95      0.89     10008\n",
      "           1       0.81      0.49      0.61      2256\n",
      "           2       0.00      0.00      0.00        59\n",
      "           3       0.80      0.54      0.65      5442\n",
      "           4       0.45      0.01      0.02      1054\n",
      "           5       0.72      0.03      0.06       680\n",
      "           6       0.78      0.02      0.04       346\n",
      "           7       0.00      0.00      0.00       239\n",
      "           8       0.66      0.06      0.11       400\n",
      "           9       0.00      0.00      0.00         0\n",
      "          10       0.90      0.27      0.41       853\n",
      "          11       0.87      0.46      0.60      1469\n",
      "          12       0.81      0.24      0.37      1195\n",
      "          13       0.86      0.10      0.17       200\n",
      "          14       0.80      0.03      0.05       283\n",
      "          15       1.00      0.01      0.01       153\n",
      "          16       0.60      0.01      0.03       437\n",
      "          17       0.90      0.04      0.09       601\n",
      "          18       0.60      0.04      0.07      1749\n",
      "          19       0.00      0.00      0.00       893\n",
      "          20       0.73      0.02      0.03       615\n",
      "          21       0.66      0.04      0.07       678\n",
      "          22       0.00      0.00      0.00       266\n",
      "          23       0.00      0.00      0.00        79\n",
      "          24       0.00      0.00      0.00       154\n",
      "          25       0.00      0.00      0.00        53\n",
      "          26       0.00      0.00      0.00       180\n",
      "          27       0.00      0.00      0.00       606\n",
      "          28       0.86      0.56      0.68      3676\n",
      "          29       0.87      0.25      0.39      1092\n",
      "          30       0.76      0.31      0.44      1241\n",
      "          31       0.00      0.00      0.00       132\n",
      "          32       0.88      0.62      0.73      1235\n",
      "          33       0.50      0.03      0.05       258\n",
      "          34       0.43      0.01      0.03       669\n",
      "          35       0.79      0.36      0.50      2563\n",
      "\n",
      "   micro avg       0.83      0.46      0.59     41814\n",
      "   macro avg       0.52      0.15      0.20     41814\n",
      "weighted avg       0.74      0.46      0.52     41814\n",
      " samples avg       0.68      0.44      0.48     41814\n",
      "\n"
     ]
    },
    {
     "name": "stderr",
     "output_type": "stream",
     "text": [
      "/Users/oleksandryatsenko/opt/anaconda3/lib/python3.7/site-packages/sklearn/metrics/_classification.py:1221: UndefinedMetricWarning: Precision and F-score are ill-defined and being set to 0.0 in labels with no predicted samples. Use `zero_division` parameter to control this behavior.\n",
      "  _warn_prf(average, modifier, msg_start, len(result))\n",
      "/Users/oleksandryatsenko/opt/anaconda3/lib/python3.7/site-packages/sklearn/metrics/_classification.py:1221: UndefinedMetricWarning: Recall and F-score are ill-defined and being set to 0.0 in labels with no true samples. Use `zero_division` parameter to control this behavior.\n",
      "  _warn_prf(average, modifier, msg_start, len(result))\n",
      "/Users/oleksandryatsenko/opt/anaconda3/lib/python3.7/site-packages/sklearn/metrics/_classification.py:1221: UndefinedMetricWarning: Precision and F-score are ill-defined and being set to 0.0 in samples with no predicted labels. Use `zero_division` parameter to control this behavior.\n",
      "  _warn_prf(average, modifier, msg_start, len(result))\n",
      "/Users/oleksandryatsenko/opt/anaconda3/lib/python3.7/site-packages/sklearn/metrics/_classification.py:1221: UndefinedMetricWarning: Recall and F-score are ill-defined and being set to 0.0 in samples with no true labels. Use `zero_division` parameter to control this behavior.\n",
      "  _warn_prf(average, modifier, msg_start, len(result))\n"
     ]
    }
   ],
   "source": [
    "main()"
   ]
  },
  {
   "cell_type": "markdown",
   "metadata": {},
   "source": [
    "### Previewing results"
   ]
  },
  {
   "cell_type": "code",
   "execution_count": null,
   "metadata": {},
   "outputs": [],
   "source": [
    "from sklearn.metrics import f1_score"
   ]
  },
  {
   "cell_type": "code",
   "execution_count": null,
   "metadata": {},
   "outputs": [],
   "source": [
    "f1_score(y_true=y_test, y_pred=y_pred, average='weighted')"
   ]
  },
  {
   "cell_type": "code",
   "execution_count": null,
   "metadata": {},
   "outputs": [],
   "source": [
    "from sklearn.metrics import precision_score, recall_score"
   ]
  },
  {
   "cell_type": "code",
   "execution_count": null,
   "metadata": {},
   "outputs": [],
   "source": [
    "precision_score(y_true=y_test, y_pred=y_pred, average='weighted')"
   ]
  },
  {
   "cell_type": "code",
   "execution_count": null,
   "metadata": {
    "scrolled": true
   },
   "outputs": [],
   "source": [
    "recall_score(y_true=y_test, y_pred=y_pred, average='weighted')"
   ]
  },
  {
   "cell_type": "markdown",
   "metadata": {},
   "source": [
    "### 3. Build a machine learning pipeline\n",
    "This machine pipeline should take in the `message` column as input and output classification results on the other 36 categories in the dataset. You may find the [MultiOutputClassifier](http://scikit-learn.org/stable/modules/generated/sklearn.multioutput.MultiOutputClassifier.html) helpful for predicting multiple target variables."
   ]
  },
  {
   "cell_type": "code",
   "execution_count": null,
   "metadata": {},
   "outputs": [],
   "source": [
    "pipeline = "
   ]
  },
  {
   "cell_type": "markdown",
   "metadata": {},
   "source": [
    "### 4. Train pipeline\n",
    "- Split data into train and test sets\n",
    "- Train pipeline"
   ]
  },
  {
   "cell_type": "code",
   "execution_count": null,
   "metadata": {},
   "outputs": [],
   "source": []
  },
  {
   "cell_type": "markdown",
   "metadata": {},
   "source": [
    "### 5. Test your model\n",
    "Report the f1 score, precision and recall for each output category of the dataset. You can do this by iterating through the columns and calling sklearn's `classification_report` on each."
   ]
  },
  {
   "cell_type": "code",
   "execution_count": null,
   "metadata": {},
   "outputs": [],
   "source": []
  },
  {
   "cell_type": "markdown",
   "metadata": {},
   "source": [
    "### 6. Improve your model\n",
    "Use grid search to find better parameters. "
   ]
  },
  {
   "cell_type": "code",
   "execution_count": null,
   "metadata": {},
   "outputs": [],
   "source": [
    "parameters = \n",
    "\n",
    "cv = "
   ]
  },
  {
   "cell_type": "markdown",
   "metadata": {},
   "source": [
    "### 7. Test your model\n",
    "Show the accuracy, precision, and recall of the tuned model.  \n",
    "\n",
    "Since this project focuses on code quality, process, and  pipelines, there is no minimum performance metric needed to pass. However, make sure to fine tune your models for accuracy, precision and recall to make your project stand out - especially for your portfolio!"
   ]
  },
  {
   "cell_type": "code",
   "execution_count": null,
   "metadata": {},
   "outputs": [],
   "source": []
  },
  {
   "cell_type": "markdown",
   "metadata": {},
   "source": [
    "### 8. Try improving your model further. Here are a few ideas:\n",
    "* try other machine learning algorithms\n",
    "* add other features besides the TF-IDF"
   ]
  },
  {
   "cell_type": "code",
   "execution_count": null,
   "metadata": {},
   "outputs": [],
   "source": []
  },
  {
   "cell_type": "markdown",
   "metadata": {},
   "source": [
    "### 9. Export your model as a pickle file"
   ]
  },
  {
   "cell_type": "code",
   "execution_count": null,
   "metadata": {},
   "outputs": [],
   "source": []
  },
  {
   "cell_type": "markdown",
   "metadata": {},
   "source": [
    "### 10. Use this notebook to complete `train.py`\n",
    "Use the template file attached in the Resources folder to write a script that runs the steps above to create a database and export a model based on a new dataset specified by the user."
   ]
  },
  {
   "cell_type": "code",
   "execution_count": null,
   "metadata": {},
   "outputs": [],
   "source": []
  }
 ],
 "metadata": {
  "kernelspec": {
   "display_name": "Python 3",
   "language": "python",
   "name": "python3"
  },
  "language_info": {
   "codemirror_mode": {
    "name": "ipython",
    "version": 3
   },
   "file_extension": ".py",
   "mimetype": "text/x-python",
   "name": "python",
   "nbconvert_exporter": "python",
   "pygments_lexer": "ipython3",
   "version": "3.7.6"
  }
 },
 "nbformat": 4,
 "nbformat_minor": 2
}
